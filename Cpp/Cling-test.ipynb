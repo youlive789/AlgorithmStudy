{
 "cells": [
  {
   "cell_type": "code",
   "execution_count": 1,
   "metadata": {},
   "outputs": [],
   "source": [
    "#include <iostream>\n",
    "#include <cstddef>\n",
    "using namespace std;"
   ]
  },
  {
   "cell_type": "code",
   "execution_count": 2,
   "metadata": {},
   "outputs": [],
   "source": [
    "class Node\n",
    "{\n",
    "    public:\n",
    "        int data;\n",
    "        Node *next;\n",
    "        Node(int d){\n",
    "            data=d;\n",
    "            next=NULL;\n",
    "        }\n",
    "};"
   ]
  },
  {
   "cell_type": "code",
   "execution_count": null,
   "metadata": {},
   "outputs": [],
   "source": [
    "class Solution{\n",
    "    public:\n",
    "\n",
    "      Node* insert(Node *head,int data)\n",
    "      {\n",
    "        //Complete this method\n",
    "        Node* node = new Node(data);\n",
    "\n",
    "        Node* last = head;\n",
    "        while (last) {\n",
    "            if (last->next != NULL) {\n",
    "                last = last->next;\n",
    "            }\n",
    "            else {\n",
    "                last->next = node;\n",
    "            }\n",
    "        }\n",
    "\n",
    "        return head;\n",
    "      }\n",
    "\n",
    "      void display(Node *head)\n",
    "      {\n",
    "          Node *start=head;\n",
    "          while(start)\n",
    "          {\n",
    "              cout << start->data <<\" \";\n",
    "              start = start->next;\n",
    "          }\n",
    "      }\n",
    "};"
   ]
  },
  {
   "cell_type": "code",
   "execution_count": null,
   "metadata": {},
   "outputs": [],
   "source": [
    "Node* head=NULL;\n",
    "Solution mylist;\n",
    "int T = 10 ,data = 10;\n",
    "while(T-- > 0){\n",
    "    head=mylist.insert(head,data);\n",
    "    data--;\n",
    "}\t\n",
    "mylist.display(head);"
   ]
  },
  {
   "cell_type": "code",
   "execution_count": null,
   "metadata": {},
   "outputs": [],
   "source": [
    "delete head, mylist;"
   ]
  },
  {
   "cell_type": "code",
   "execution_count": null,
   "metadata": {},
   "outputs": [],
   "source": []
  }
 ],
 "metadata": {
  "kernelspec": {
   "display_name": "C++17",
   "language": "C++17",
   "name": "xcpp17"
  },
  "language_info": {
   "codemirror_mode": "text/x-c++src",
   "file_extension": ".cpp",
   "mimetype": "text/x-c++src",
   "name": "c++",
   "version": "-std=c++17"
  }
 },
 "nbformat": 4,
 "nbformat_minor": 2
}
